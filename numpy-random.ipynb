{
 "cells": [
  {
   "cell_type": "markdown",
   "metadata": {},
   "source": [
    "![title](img/numpy.jpeg)\n"
   ]
  },
  {
   "cell_type": "markdown",
   "metadata": {},
   "source": [
    "# Numpy\n"
   ]
  },
  {
   "cell_type": "markdown",
   "metadata": {},
   "source": [
    "### What is Numpy\n",
    "\n",
    "NumPy is the fundamental package for scientific computing with Python. It contains \n",
    "- A powerful N-dimensional array object\n",
    "- Sophisticated (broadcasting) functions\n",
    "- Tools for integrating C/C++ and Fortran code\n",
    "- Useful linear algebra, Fourier transform, and random number capabilities\n",
    "\n",
    "Besides its obvious scientific uses, NumPy can also be used as an efficient multi-dimensional container of generic data. Arbitrary data-types can be defined. This allows NumPy to seamlessly and speedily integrate with a wide variety of databases.\n",
    "######http://www.numpy.org/"
   ]
  },
  {
   "cell_type": "markdown",
   "metadata": {},
   "source": [
    "###### Import numpy and matplotlib.pyplot to use them\n",
    "\n",
    "Matplotlib.pyplot provides a MATLAB-like plotting framework. \n",
    "Pylab combines pyplot with numpy into a single namespace. \n",
    "This is convenient for interactive work.\n",
    "\n",
    "######https://matplotlib.org/api/pyplot_api.html#module-matplotlib.pyplot"
   ]
  },
  {
   "cell_type": "code",
   "execution_count": 27,
   "metadata": {},
   "outputs": [],
   "source": [
    "import numpy as np\n",
    "import matplotlib.pyplot as plt"
   ]
  },
  {
   "cell_type": "markdown",
   "metadata": {},
   "source": [
    "## Numpy Random\n",
    "NumPy provides various routines in the submodule random. It uses a particular algorithm, called the Mersenne Twister, to generate pseudorandom numbers.\n",
    "######https://www.packtpub.com/mapt/book/big_data_and_business_intelligence/9781785285110/2/ch02lvl1sec16/numpy-random-numbers"
   ]
  },
  {
   "cell_type": "markdown",
   "metadata": {},
   "source": [
    "##### Array creation\n",
    "NumPy’s array class is called ndarray. It is also known by the alias array. You can create an array from a regular Python list or tuple using the array function. The type of the resulting array is deduced from the type of the elements in the sequences.\n",
    "\n",
    "The function zeros creates an array full of zeros, the function ones creates an array full of ones, and the function empty creates an array whose initial content is random and depends on the state of the memory. By default, the dtype of the created array is float64.\n",
    "######https://docs.scipy.org/doc/numpy/user/quickstart.html"
   ]
  },
  {
   "cell_type": "code",
   "execution_count": 28,
   "metadata": {},
   "outputs": [
    {
     "data": {
      "text/plain": [
       "array([[0., 0., 0.],\n",
       "       [0., 0., 0.]])"
      ]
     },
     "execution_count": 28,
     "metadata": {},
     "output_type": "execute_result"
    }
   ],
   "source": [
    "np.zeros((2,3))"
   ]
  },
  {
   "cell_type": "code",
   "execution_count": 29,
   "metadata": {},
   "outputs": [
    {
     "data": {
      "text/plain": [
       "array([ 0,  1,  2,  3,  4,  5,  6,  7,  8,  9, 10, 11, 12, 13, 14])"
      ]
     },
     "execution_count": 29,
     "metadata": {},
     "output_type": "execute_result"
    }
   ],
   "source": [
    "np.arange(15)"
   ]
  },
  {
   "cell_type": "code",
   "execution_count": 30,
   "metadata": {},
   "outputs": [
    {
     "data": {
      "text/plain": [
       "array([[ 0,  1,  2,  3,  4],\n",
       "       [ 5,  6,  7,  8,  9],\n",
       "       [10, 11, 12, 13, 14]])"
      ]
     },
     "execution_count": 30,
     "metadata": {},
     "output_type": "execute_result"
    }
   ],
   "source": [
    "np.arange(15).reshape(3, 5)"
   ]
  },
  {
   "cell_type": "code",
   "execution_count": 31,
   "metadata": {},
   "outputs": [
    {
     "data": {
      "text/plain": [
       "array([[[1, 1, 1, 1],\n",
       "        [1, 1, 1, 1],\n",
       "        [1, 1, 1, 1]],\n",
       "\n",
       "       [[1, 1, 1, 1],\n",
       "        [1, 1, 1, 1],\n",
       "        [1, 1, 1, 1]]], dtype=int16)"
      ]
     },
     "execution_count": 31,
     "metadata": {},
     "output_type": "execute_result"
    }
   ],
   "source": [
    "#dtype can also be specified\n",
    "np.ones( (2,3,4), dtype=np.int16 )"
   ]
  },
  {
   "cell_type": "code",
   "execution_count": 32,
   "metadata": {},
   "outputs": [
    {
     "data": {
      "text/plain": [
       "array([0, 1, 2, 3, 4, 5])"
      ]
     },
     "execution_count": 32,
     "metadata": {},
     "output_type": "execute_result"
    }
   ],
   "source": [
    "#1d array\n",
    "np.arange(6)"
   ]
  },
  {
   "cell_type": "code",
   "execution_count": 33,
   "metadata": {},
   "outputs": [
    {
     "data": {
      "text/plain": [
       "array([[ 0,  1,  2],\n",
       "       [ 3,  4,  5],\n",
       "       [ 6,  7,  8],\n",
       "       [ 9, 10, 11]])"
      ]
     },
     "execution_count": 33,
     "metadata": {},
     "output_type": "execute_result"
    }
   ],
   "source": [
    "#2d array\n",
    "np.arange(12).reshape(4,3)"
   ]
  },
  {
   "cell_type": "code",
   "execution_count": 34,
   "metadata": {},
   "outputs": [
    {
     "data": {
      "text/plain": [
       "array([[[ 0,  1,  2,  3],\n",
       "        [ 4,  5,  6,  7],\n",
       "        [ 8,  9, 10, 11]],\n",
       "\n",
       "       [[12, 13, 14, 15],\n",
       "        [16, 17, 18, 19],\n",
       "        [20, 21, 22, 23]]])"
      ]
     },
     "execution_count": 34,
     "metadata": {},
     "output_type": "execute_result"
    }
   ],
   "source": [
    "#3d array\n",
    "np.arange(24).reshape(2,3,4)"
   ]
  },
  {
   "cell_type": "markdown",
   "metadata": {},
   "source": [
    "## Normal"
   ]
  },
  {
   "cell_type": "code",
   "execution_count": 37,
   "metadata": {},
   "outputs": [],
   "source": [
    "#Generate random number\n",
    "random = np.random.uniform(0.0,10.0)"
   ]
  },
  {
   "cell_type": "code",
   "execution_count": 38,
   "metadata": {},
   "outputs": [
    {
     "name": "stdout",
     "output_type": "stream",
     "text": [
      "2.5140539554934604\n"
     ]
    }
   ],
   "source": [
    "print(random)"
   ]
  },
  {
   "cell_type": "markdown",
   "metadata": {},
   "source": [
    "###### numpy.random.sample(size=None)\n",
    "\n",
    "Return random floats in the half-open interval (0.0, 0.1)\n",
    "Results are from the “continuous uniform” distribution over the stated interval.\n",
    "\n",
    "######https://docs.scipy.org/doc/numpy-1.15.1/reference/generated/numpy.random.random_sample.html#numpy.random.random_sample"
   ]
  },
  {
   "cell_type": "code",
   "execution_count": 39,
   "metadata": {},
   "outputs": [
    {
     "data": {
      "text/plain": [
       "0.5270343696287156"
      ]
     },
     "execution_count": 39,
     "metadata": {},
     "output_type": "execute_result"
    }
   ],
   "source": [
    "np.random.random_sample()"
   ]
  },
  {
   "cell_type": "code",
   "execution_count": 40,
   "metadata": {},
   "outputs": [
    {
     "data": {
      "text/plain": [
       "array([0.50078281, 0.73060559, 0.32922319, 0.06806203, 0.13404804])"
      ]
     },
     "execution_count": 40,
     "metadata": {},
     "output_type": "execute_result"
    }
   ],
   "source": [
    "np.random.random_sample((5,))"
   ]
  },
  {
   "cell_type": "markdown",
   "metadata": {},
   "source": [
    "## Permutation\n",
    "\n",
    "###### numpy.random.permutation(x)\n",
    "Randomly permute a sequence, or return a permuted range.\n",
    "\n",
    "If x is a multi-dimensional array, it is only shuffled along its first index.\n",
    "\n",
    "Parameters:\n",
    "\n",
    "x : int or array_like\n",
    "If x is an integer, randomly permute np.arange(x). If x is an array, make a copy and shuffle the elements randomly.\n",
    "\n",
    "Returns:\t\n",
    "\n",
    "out : ndarray\n",
    "Permuted sequence or array range.\n",
    "\n",
    "######https://docs.scipy.org/doc/numpy-1.15.1/reference/generated/numpy.random.permutation.html#numpy.random.permutation"
   ]
  },
  {
   "cell_type": "code",
   "execution_count": 41,
   "metadata": {},
   "outputs": [
    {
     "data": {
      "text/plain": [
       "array([4, 6, 2, 5, 7, 1, 8, 9, 3, 0])"
      ]
     },
     "execution_count": 41,
     "metadata": {},
     "output_type": "execute_result"
    }
   ],
   "source": [
    "np.random.permutation(10)"
   ]
  },
  {
   "cell_type": "code",
   "execution_count": 42,
   "metadata": {},
   "outputs": [
    {
     "data": {
      "text/plain": [
       "array([ 9,  1,  4, 15, 12])"
      ]
     },
     "execution_count": 42,
     "metadata": {},
     "output_type": "execute_result"
    }
   ],
   "source": [
    "np.random.permutation([1, 4, 9, 12, 15])"
   ]
  },
  {
   "cell_type": "code",
   "execution_count": 43,
   "metadata": {},
   "outputs": [],
   "source": [
    " arr = np.arange(16).reshape((4, 4))"
   ]
  },
  {
   "cell_type": "code",
   "execution_count": 44,
   "metadata": {},
   "outputs": [
    {
     "data": {
      "text/plain": [
       "array([[ 0,  1,  2,  3],\n",
       "       [ 4,  5,  6,  7],\n",
       "       [12, 13, 14, 15],\n",
       "       [ 8,  9, 10, 11]])"
      ]
     },
     "execution_count": 44,
     "metadata": {},
     "output_type": "execute_result"
    }
   ],
   "source": [
    "np.random.permutation(arr)"
   ]
  },
  {
   "cell_type": "markdown",
   "metadata": {},
   "source": [
    "## Distributions"
   ]
  },
  {
   "cell_type": "markdown",
   "metadata": {},
   "source": [
    "### Binomial distribution\n",
    "\n",
    "A random variable X that has a binomial distribution which represents the number of successes in a sequence of n independent yes/no trials, each of which yields success with probability p.\n",
    "\n",
    "Samples are drawn from a binomial distribution with specified parameters, n trials and p probability of success where n an integer >= 0 and p is in the interval [0,1].\n",
    "\n",
    "######https://bigdata-madesimple.com/how-to-implement-these-5-powerful-probability-distributions-in-python/\n",
    "######https://docs.scipy.org/doc/numpy-1.15.1/reference/generated/numpy.random.binomial.html#numpy.random.binomial"
   ]
  },
  {
   "cell_type": "code",
   "execution_count": 45,
   "metadata": {},
   "outputs": [],
   "source": [
    "# number of trials, probability of each trial\n",
    "#--sample\n",
    "n, p = 10, .5\n",
    "s = np.random.binomial(n, p, 1000)"
   ]
  },
  {
   "cell_type": "code",
   "execution_count": 47,
   "metadata": {},
   "outputs": [
    {
     "data": {
      "text/plain": [
       "0.38775"
      ]
     },
     "execution_count": 47,
     "metadata": {},
     "output_type": "execute_result"
    }
   ],
   "source": [
    "sum(np.random.binomial(9, 0.1, 20000) == 0)/20000."
   ]
  },
  {
   "cell_type": "code",
   "execution_count": 48,
   "metadata": {},
   "outputs": [],
   "source": [
    "#answer amounts to 38%"
   ]
  },
  {
   "cell_type": "code",
   "execution_count": 49,
   "metadata": {},
   "outputs": [
    {
     "data": {
      "text/plain": [
       "array([ 8,  2,  7,  5,  8,  5,  4,  6,  3,  8,  4,  6,  5,  6,  6,  9,  3,\n",
       "        6,  5,  6,  6,  5,  6,  4,  4,  7,  4,  6,  7,  4,  6,  7,  7,  2,\n",
       "        5,  6,  6,  3,  5,  2,  6,  7,  3,  5,  5,  5,  4,  4,  4,  6,  4,\n",
       "        7,  5,  1,  5,  5,  6,  6,  2,  4,  7,  6,  4,  6,  3,  7,  9,  9,\n",
       "        6,  4,  3,  5,  5,  7,  5,  4,  5,  4,  5,  8,  6,  3,  5,  7,  4,\n",
       "        3,  4,  4,  5,  4,  6,  3,  3,  4,  3,  3,  5,  3,  4,  4,  6,  4,\n",
       "        4,  6,  4,  5,  9,  6,  0,  3,  4,  5,  7,  8,  4,  5,  4,  7,  4,\n",
       "        7,  4,  5,  6,  6,  3,  6,  7,  6,  4,  6,  4,  6,  2,  6,  4,  5,\n",
       "        7,  7,  4,  5,  3,  4,  8,  8,  0,  7,  5,  3,  2,  5,  4,  6,  5,\n",
       "        3,  5,  5,  6,  6,  5,  4,  8,  5,  2,  5,  3,  4,  5,  5,  5,  5,\n",
       "        7,  2,  4,  4,  6,  7,  5,  4,  3,  5,  7,  2,  5,  3,  7,  8,  6,\n",
       "        4,  4,  4,  5,  2,  6,  7,  7,  4,  2,  6,  3,  6,  6,  6,  4,  6,\n",
       "        8,  6,  5,  6,  7,  5,  4,  5,  6,  3,  5,  4,  4,  5,  4,  4,  4,\n",
       "        5,  5,  5,  5,  5,  5,  2,  4,  4,  4,  5,  6,  5,  3,  3,  5,  5,\n",
       "        5,  7,  5,  6,  6,  7,  5,  4,  3,  6,  6,  6,  4,  6,  7,  5,  7,\n",
       "        3,  6,  4,  5,  5,  5,  6,  6,  3,  5,  5,  3,  5,  4,  5,  6,  7,\n",
       "        7,  7,  6,  7,  6,  3,  6,  3,  5,  3,  7,  7,  4,  3,  7,  5,  1,\n",
       "        4,  5,  3,  5,  5,  6,  5,  5,  7,  3,  4,  7,  3,  5,  4,  5,  6,\n",
       "        6,  6,  4,  6,  4,  4,  5,  4,  7,  3,  4,  3,  5,  7,  3,  7,  7,\n",
       "        7,  3,  5,  8, 10,  2,  4,  5,  7,  2,  5,  4,  4,  5,  6,  4,  4,\n",
       "        4,  5,  7,  6,  6,  4,  3,  4,  8,  4,  6,  4,  9,  6,  4,  2,  5,\n",
       "        4,  7,  6,  9,  4,  6,  3,  5,  3,  7,  4,  5,  6,  7,  3,  6,  4,\n",
       "        6,  1,  8,  2,  7,  5,  4,  6,  3,  5,  5,  4,  3,  4,  5,  6,  4,\n",
       "        6,  3,  4,  7,  4,  5,  6,  6,  6,  6,  4,  2,  6,  4,  6,  5,  4,\n",
       "        1,  5,  7,  7,  6,  6,  5,  5,  5,  3,  3,  5,  6,  3,  1,  7,  3,\n",
       "        7,  2,  5,  4,  6,  1,  4,  7,  3,  6,  4,  6,  6,  3,  7,  0,  4,\n",
       "        5,  4,  6,  2,  4,  6,  5,  2,  4,  5,  1,  4,  7,  6,  7,  6,  5,\n",
       "        5,  6,  6,  2,  6,  7,  5,  7,  4,  4,  5,  5,  5,  2,  6,  6,  2,\n",
       "        5,  5,  6,  8,  5,  6,  4,  6,  3,  5,  4,  6,  6,  1,  4,  4,  6,\n",
       "        3,  3,  4,  6,  4,  7,  6,  2,  3,  5,  9,  6,  4,  5,  4,  6,  5,\n",
       "        6,  5,  7,  5,  5,  6,  5,  4,  4,  6,  7,  3,  5,  5,  8,  6,  4,\n",
       "        5,  4,  7,  4,  6,  5,  2,  4,  3,  3,  7,  6,  5,  2,  4,  3,  4,\n",
       "        5,  5,  3,  3,  4,  5,  2,  6,  5,  5,  5,  2,  7,  4,  3,  4,  3,\n",
       "        6,  7,  4,  5,  5,  5,  9,  6,  3,  4,  5,  8,  6,  5,  4,  4,  4,\n",
       "        7,  2,  2,  1,  5,  4,  5,  4,  7,  4,  5,  3,  3,  5,  3,  5,  2,\n",
       "        7,  6,  3,  6,  7,  3,  6,  7,  6,  6,  4,  4,  4,  5,  3,  4,  5,\n",
       "        4,  5,  8,  7,  5,  6,  5,  3,  6,  5,  5,  2,  4,  3,  5,  7,  7,\n",
       "        8,  3,  5,  4,  2,  3,  5,  9,  3,  7,  7,  4,  6,  6,  6,  4,  5,\n",
       "        7,  5,  5,  5,  5,  4,  4,  5,  2,  1,  7,  3,  4,  4,  4,  3,  8,\n",
       "        5,  3,  5,  4,  5,  3,  3,  6,  8,  5,  5,  6,  8,  7,  3,  6,  5,\n",
       "        7,  8,  7,  4,  4,  5,  1,  3,  6,  8,  7,  4,  5,  8,  7,  4,  3,\n",
       "        7,  7,  5,  3,  3,  4,  4,  7,  7,  7,  7,  6,  4,  4,  4,  4,  5,\n",
       "        5,  4,  4,  3,  6,  6,  5,  6,  3,  2,  9,  3,  6,  6,  6,  4,  3,\n",
       "        5,  6,  5,  3,  6,  5,  4,  6,  4,  5,  4,  5,  6,  7,  9,  5,  6,\n",
       "        6,  3,  5,  4,  7,  6,  1,  5,  5,  5,  5,  3,  5,  4,  3,  4,  4,\n",
       "        7,  5,  5,  5,  7,  2,  2,  5,  6,  4,  7,  6,  6,  6,  6,  6,  6,\n",
       "        4,  4,  4,  4,  4,  6,  3,  7,  4,  3,  5,  4,  3,  6,  6,  6,  5,\n",
       "        5,  3,  6,  7,  2,  4,  3,  3,  6,  8,  4,  5,  4,  7,  4,  5,  7,\n",
       "        5,  5,  3,  8,  5,  4,  4,  2,  5,  6,  8,  3,  6,  2,  6,  4,  8,\n",
       "        4,  2,  6,  4,  5,  5,  6,  7,  7,  4,  8,  8,  3,  5,  5,  6,  1,\n",
       "        6,  7,  5,  2,  5,  3,  5,  2,  4,  5,  5,  2,  4,  6,  5,  6,  6,\n",
       "        5,  8,  5,  2,  4,  5,  7,  5,  2,  5,  7,  5,  4,  4,  5,  5,  7,\n",
       "        3,  4,  4,  6,  4,  6,  6,  3,  8,  5,  5,  6,  4,  4,  4,  2,  5,\n",
       "        4,  5,  6,  5,  4,  5,  5,  1,  8,  5,  8,  6,  5,  4,  6,  7,  5,\n",
       "        9,  5,  5,  4,  8,  3,  5,  4,  5,  5,  4,  3,  4,  8,  7,  7,  7,\n",
       "        8,  3,  3,  4,  5,  6,  5,  4,  3,  4,  1,  5,  4,  5,  5,  5,  6,\n",
       "        5,  4,  6,  5,  5,  6,  3,  8,  6,  3,  3,  4,  5,  4,  3,  5,  8,\n",
       "        6,  4,  5,  8,  8,  6,  5,  7,  6,  3,  7,  5,  6,  7,  6,  7,  5,\n",
       "        8,  4,  6,  3,  4,  4,  4,  6,  3,  7,  6,  4,  6,  6])"
      ]
     },
     "execution_count": 49,
     "metadata": {},
     "output_type": "execute_result"
    }
   ],
   "source": [
    "# result of flipping a coin 10 times, tested 1000 times.\n",
    "n,p,size = 10, .5,1000\n",
    "a = np.random.binomial(n,p,size)\n",
    "a"
   ]
  },
  {
   "cell_type": "code",
   "execution_count": 50,
   "metadata": {},
   "outputs": [
    {
     "data": {
      "image/png": "[encoded data removed]",
      "text/plain": [
       "<Figure size 432x288 with 1 Axes>"
      ]
     },
     "metadata": {},
     "output_type": "display_data"
    }
   ],
   "source": [
    "# Plot of the binomial distribution array\n",
    "plt.plot(a)\n",
    "plt.xlabel('Binomial distribution')\n",
    "plt.ylabel('Frequency')\n",
    "plt.show()"
   ]
  },
  {
   "cell_type": "code",
   "execution_count": 52,
   "metadata": {},
   "outputs": [
    {
     "data": {
      "text/plain": [
       "(array([  3.,  15.,  47., 119., 213., 242., 192., 114.,  42.,  13.]),\n",
       " array([ 0.,  1.,  2.,  3.,  4.,  5.,  6.,  7.,  8.,  9., 10.]),\n",
       " <a list of 10 Patch objects>)"
      ]
     },
     "execution_count": 52,
     "metadata": {},
     "output_type": "execute_result"
    },
    {
     "data": {
      "image/png": "[encoded data removed]",
      "text/plain": [
       "<Figure size 432x288 with 1 Axes>"
      ]
     },
     "metadata": {},
     "output_type": "display_data"
    }
   ],
   "source": [
    "plt.hist(a)"
   ]
  },
  {
   "cell_type": "markdown",
   "metadata": {},
   "source": [
    "### Pareto"
   ]
  },
  {
   "cell_type": "markdown",
   "metadata": {},
   "source": [
    "The classical Pareto distribution can be obtained from the Lomax distribution by adding 1 and multiplying by the scale parameter m. The smallest value of the Lomax distribution is zero while for the classical Pareto distribution it is mu, where the standard Pareto distribution has location mu = 1. \n",
    "\n",
    "The Pareto distribution must be greater than zero, and is unbounded above. It is also known as the “80-20 rule”. In this distribution, 80 percent of the weights are in the lowest 20 percent of the range, while the other 20 percent fill the remaining 80 percent of the range.\n",
    "######https://docs.scipy.org/doc/numpy-1.15.1/reference/generated/numpy.random.pareto.html#numpy.random.pareto"
   ]
  },
  {
   "cell_type": "code",
   "execution_count": 53,
   "metadata": {},
   "outputs": [],
   "source": [
    "# shape and mode\n",
    "a, m = 3., 2. "
   ]
  },
  {
   "cell_type": "code",
   "execution_count": 54,
   "metadata": {},
   "outputs": [],
   "source": [
    "s = (np.random.pareto(a, 1000) + 1) * m"
   ]
  },
  {
   "cell_type": "code",
   "execution_count": 57,
   "metadata": {},
   "outputs": [
    {
     "data": {
      "image/png": "[encoded data removed]",
      "text/plain": [
       "<Figure size 432x288 with 1 Axes>"
      ]
     },
     "metadata": {},
     "output_type": "display_data"
    }
   ],
   "source": [
    "count, bins, _ = plt.hist(s, 100, density=True)\n",
    "fit = a*m**a / bins**(a+1)\n",
    "plt.plot(bins, max(count)*fit/max(fit), linewidth=2, color='r')\n",
    "plt.show()"
   ]
  },
  {
   "cell_type": "markdown",
   "metadata": {},
   "source": [
    "### Poisson\n",
    "The Poisson distribution is the limit of the binomial distribution for large N.\n",
    "######https://github.com/ianmcloughlin/jupyter-teaching-notebooks/blob/master/random-variables.ipynb\n",
    "######https://docs.scipy.org/doc/numpy-1.15.1/reference/generated/numpy.random.poisson.html#numpy.random.poisson"
   ]
  },
  {
   "cell_type": "code",
   "execution_count": 58,
   "metadata": {},
   "outputs": [],
   "source": [
    "s = np.random.poisson(5, 10000)"
   ]
  },
  {
   "cell_type": "code",
   "execution_count": 60,
   "metadata": {},
   "outputs": [
    {
     "data": {
      "image/png": "[encoded data removed]",
      "text/plain": [
       "<Figure size 432x288 with 1 Axes>"
      ]
     },
     "metadata": {},
     "output_type": "display_data"
    }
   ],
   "source": [
    "#Display histogram of the sample:\n",
    "count, bins, ignored = plt.hist(s, 14, density=True)\n",
    "plt.show()"
   ]
  },
  {
   "cell_type": "code",
   "execution_count": null,
   "metadata": {},
   "outputs": [],
   "source": []
  }
 ],
 "metadata": {
  "kernelspec": {
   "display_name": "Python 3",
   "language": "python",
   "name": "python3"
  },
  "language_info": {
   "codemirror_mode": {
    "name": "ipython",
    "version": 3
   },
   "file_extension": ".py",
   "mimetype": "text/x-python",
   "name": "python",
   "nbconvert_exporter": "python",
   "pygments_lexer": "ipython3",
   "version": "3.6.5"
  }
 },
 "nbformat": 4,
 "nbformat_minor": 2
}
